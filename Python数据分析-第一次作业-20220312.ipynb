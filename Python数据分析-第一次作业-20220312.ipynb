{
 "cells": [
  {
   "cell_type": "markdown",
   "metadata": {},
   "source": [
    "# Python数据分析第一次作业（2022春）\n",
    "根据题目要求，完成对共享单车数据的分析   \n",
    "数据文件为在压缩包\"citibike-tripdata.csv.zip\"中，需要自行解压后进行处理。"
   ]
  },
  {
   "cell_type": "markdown",
   "metadata": {},
   "source": [
    "## 1.读取数据，并分别显示前10行和后5行。（0.5分）"
   ]
  },
  {
   "cell_type": "code",
   "execution_count": 94,
   "metadata": {},
   "outputs": [],
   "source": [
    "import pandas as pd\n",
    "import numpy as np\n",
    "\n",
    "data = pd.read_csv('citibike-tripdata.csv')"
   ]
  },
  {
   "cell_type": "code",
   "execution_count": 95,
   "metadata": {},
   "outputs": [
    {
     "data": {
      "text/html": [
       "<div>\n",
       "<style scoped>\n",
       "    .dataframe tbody tr th:only-of-type {\n",
       "        vertical-align: middle;\n",
       "    }\n",
       "\n",
       "    .dataframe tbody tr th {\n",
       "        vertical-align: top;\n",
       "    }\n",
       "\n",
       "    .dataframe thead th {\n",
       "        text-align: right;\n",
       "    }\n",
       "</style>\n",
       "<table border=\"1\" class=\"dataframe\">\n",
       "  <thead>\n",
       "    <tr style=\"text-align: right;\">\n",
       "      <th></th>\n",
       "      <th>tripduration</th>\n",
       "      <th>starttime</th>\n",
       "      <th>stoptime</th>\n",
       "      <th>start station id</th>\n",
       "      <th>start station name</th>\n",
       "      <th>start station latitude</th>\n",
       "      <th>start station longitude</th>\n",
       "      <th>end station id</th>\n",
       "      <th>end station name</th>\n",
       "      <th>end station latitude</th>\n",
       "      <th>end station longitude</th>\n",
       "      <th>bikeid</th>\n",
       "      <th>usertype</th>\n",
       "      <th>birth year</th>\n",
       "      <th>gender</th>\n",
       "    </tr>\n",
       "  </thead>\n",
       "  <tbody>\n",
       "    <tr>\n",
       "      <th>0</th>\n",
       "      <td>364</td>\n",
       "      <td>2017-07-01 00:00:00</td>\n",
       "      <td>2017-07-01 00:06:05</td>\n",
       "      <td>539</td>\n",
       "      <td>Metropolitan Ave &amp; Bedford Ave</td>\n",
       "      <td>40.715348</td>\n",
       "      <td>-73.960241</td>\n",
       "      <td>3107</td>\n",
       "      <td>Bedford Ave &amp; Nassau Ave</td>\n",
       "      <td>40.723117</td>\n",
       "      <td>-73.952123</td>\n",
       "      <td>14744</td>\n",
       "      <td>Subscriber</td>\n",
       "      <td>1986.0</td>\n",
       "      <td>1</td>\n",
       "    </tr>\n",
       "    <tr>\n",
       "      <th>1</th>\n",
       "      <td>2142</td>\n",
       "      <td>2017-07-01 00:00:03</td>\n",
       "      <td>2017-07-01 00:35:46</td>\n",
       "      <td>293</td>\n",
       "      <td>Lafayette St &amp; E 8 St</td>\n",
       "      <td>40.730207</td>\n",
       "      <td>-73.991026</td>\n",
       "      <td>3425</td>\n",
       "      <td>2 Ave  &amp; E 104 St</td>\n",
       "      <td>40.789211</td>\n",
       "      <td>-73.943708</td>\n",
       "      <td>19587</td>\n",
       "      <td>Subscriber</td>\n",
       "      <td>1981.0</td>\n",
       "      <td>1</td>\n",
       "    </tr>\n",
       "    <tr>\n",
       "      <th>2</th>\n",
       "      <td>328</td>\n",
       "      <td>2017-07-01 00:00:08</td>\n",
       "      <td>2017-07-01 00:05:37</td>\n",
       "      <td>3242</td>\n",
       "      <td>Schermerhorn St &amp; Court St</td>\n",
       "      <td>40.691029</td>\n",
       "      <td>-73.991834</td>\n",
       "      <td>3397</td>\n",
       "      <td>Court St &amp; Nelson St</td>\n",
       "      <td>40.676395</td>\n",
       "      <td>-73.998699</td>\n",
       "      <td>27937</td>\n",
       "      <td>Subscriber</td>\n",
       "      <td>1984.0</td>\n",
       "      <td>2</td>\n",
       "    </tr>\n",
       "    <tr>\n",
       "      <th>3</th>\n",
       "      <td>2530</td>\n",
       "      <td>2017-07-01 00:00:11</td>\n",
       "      <td>2017-07-01 00:42:22</td>\n",
       "      <td>2002</td>\n",
       "      <td>Wythe Ave &amp; Metropolitan Ave</td>\n",
       "      <td>40.716887</td>\n",
       "      <td>-73.963198</td>\n",
       "      <td>398</td>\n",
       "      <td>Atlantic Ave &amp; Furman St</td>\n",
       "      <td>40.691652</td>\n",
       "      <td>-73.999979</td>\n",
       "      <td>26066</td>\n",
       "      <td>Subscriber</td>\n",
       "      <td>1985.0</td>\n",
       "      <td>1</td>\n",
       "    </tr>\n",
       "    <tr>\n",
       "      <th>4</th>\n",
       "      <td>2534</td>\n",
       "      <td>2017-07-01 00:00:15</td>\n",
       "      <td>2017-07-01 00:42:29</td>\n",
       "      <td>2002</td>\n",
       "      <td>Wythe Ave &amp; Metropolitan Ave</td>\n",
       "      <td>40.716887</td>\n",
       "      <td>-73.963198</td>\n",
       "      <td>398</td>\n",
       "      <td>Atlantic Ave &amp; Furman St</td>\n",
       "      <td>40.691652</td>\n",
       "      <td>-73.999979</td>\n",
       "      <td>29408</td>\n",
       "      <td>Subscriber</td>\n",
       "      <td>1982.0</td>\n",
       "      <td>2</td>\n",
       "    </tr>\n",
       "    <tr>\n",
       "      <th>5</th>\n",
       "      <td>545</td>\n",
       "      <td>2017-07-01 00:00:18</td>\n",
       "      <td>2017-07-01 00:09:24</td>\n",
       "      <td>361</td>\n",
       "      <td>Allen St &amp; Hester St</td>\n",
       "      <td>40.716059</td>\n",
       "      <td>-73.991908</td>\n",
       "      <td>502</td>\n",
       "      <td>Henry St &amp; Grand St</td>\n",
       "      <td>40.714215</td>\n",
       "      <td>-73.981346</td>\n",
       "      <td>21203</td>\n",
       "      <td>Subscriber</td>\n",
       "      <td>1954.0</td>\n",
       "      <td>2</td>\n",
       "    </tr>\n",
       "    <tr>\n",
       "      <th>6</th>\n",
       "      <td>1496</td>\n",
       "      <td>2017-07-01 00:00:18</td>\n",
       "      <td>2017-07-01 00:25:15</td>\n",
       "      <td>3233</td>\n",
       "      <td>E 48 St &amp; 5 Ave</td>\n",
       "      <td>40.757246</td>\n",
       "      <td>-73.978059</td>\n",
       "      <td>546</td>\n",
       "      <td>E 30 St &amp; Park Ave S</td>\n",
       "      <td>40.744449</td>\n",
       "      <td>-73.983035</td>\n",
       "      <td>15933</td>\n",
       "      <td>Customer</td>\n",
       "      <td>1971.0</td>\n",
       "      <td>1</td>\n",
       "    </tr>\n",
       "    <tr>\n",
       "      <th>7</th>\n",
       "      <td>1495</td>\n",
       "      <td>2017-07-01 00:00:19</td>\n",
       "      <td>2017-07-01 00:25:15</td>\n",
       "      <td>3233</td>\n",
       "      <td>E 48 St &amp; 5 Ave</td>\n",
       "      <td>40.757246</td>\n",
       "      <td>-73.978059</td>\n",
       "      <td>546</td>\n",
       "      <td>E 30 St &amp; Park Ave S</td>\n",
       "      <td>40.744449</td>\n",
       "      <td>-73.983035</td>\n",
       "      <td>18515</td>\n",
       "      <td>Customer</td>\n",
       "      <td>1964.0</td>\n",
       "      <td>2</td>\n",
       "    </tr>\n",
       "    <tr>\n",
       "      <th>8</th>\n",
       "      <td>593</td>\n",
       "      <td>2017-07-01 00:00:27</td>\n",
       "      <td>2017-07-01 00:10:20</td>\n",
       "      <td>3314</td>\n",
       "      <td>W 95 St &amp; Broadway</td>\n",
       "      <td>40.793770</td>\n",
       "      <td>-73.971888</td>\n",
       "      <td>3363</td>\n",
       "      <td>E 102 St &amp; Park Ave</td>\n",
       "      <td>40.790483</td>\n",
       "      <td>-73.950331</td>\n",
       "      <td>29135</td>\n",
       "      <td>Subscriber</td>\n",
       "      <td>1982.0</td>\n",
       "      <td>1</td>\n",
       "    </tr>\n",
       "    <tr>\n",
       "      <th>9</th>\n",
       "      <td>1950</td>\n",
       "      <td>2017-07-01 00:00:30</td>\n",
       "      <td>2017-07-01 00:33:00</td>\n",
       "      <td>3085</td>\n",
       "      <td>Roebling St &amp; N 4 St</td>\n",
       "      <td>40.714690</td>\n",
       "      <td>-73.957390</td>\n",
       "      <td>468</td>\n",
       "      <td>Broadway &amp; W 56 St</td>\n",
       "      <td>40.765265</td>\n",
       "      <td>-73.981923</td>\n",
       "      <td>17365</td>\n",
       "      <td>Subscriber</td>\n",
       "      <td>1983.0</td>\n",
       "      <td>1</td>\n",
       "    </tr>\n",
       "  </tbody>\n",
       "</table>\n",
       "</div>"
      ],
      "text/plain": [
       "   tripduration            starttime             stoptime  start station id  \\\n",
       "0           364  2017-07-01 00:00:00  2017-07-01 00:06:05               539   \n",
       "1          2142  2017-07-01 00:00:03  2017-07-01 00:35:46               293   \n",
       "2           328  2017-07-01 00:00:08  2017-07-01 00:05:37              3242   \n",
       "3          2530  2017-07-01 00:00:11  2017-07-01 00:42:22              2002   \n",
       "4          2534  2017-07-01 00:00:15  2017-07-01 00:42:29              2002   \n",
       "5           545  2017-07-01 00:00:18  2017-07-01 00:09:24               361   \n",
       "6          1496  2017-07-01 00:00:18  2017-07-01 00:25:15              3233   \n",
       "7          1495  2017-07-01 00:00:19  2017-07-01 00:25:15              3233   \n",
       "8           593  2017-07-01 00:00:27  2017-07-01 00:10:20              3314   \n",
       "9          1950  2017-07-01 00:00:30  2017-07-01 00:33:00              3085   \n",
       "\n",
       "               start station name  start station latitude  \\\n",
       "0  Metropolitan Ave & Bedford Ave               40.715348   \n",
       "1           Lafayette St & E 8 St               40.730207   \n",
       "2      Schermerhorn St & Court St               40.691029   \n",
       "3    Wythe Ave & Metropolitan Ave               40.716887   \n",
       "4    Wythe Ave & Metropolitan Ave               40.716887   \n",
       "5            Allen St & Hester St               40.716059   \n",
       "6                 E 48 St & 5 Ave               40.757246   \n",
       "7                 E 48 St & 5 Ave               40.757246   \n",
       "8              W 95 St & Broadway               40.793770   \n",
       "9            Roebling St & N 4 St               40.714690   \n",
       "\n",
       "   start station longitude  end station id          end station name  \\\n",
       "0               -73.960241            3107  Bedford Ave & Nassau Ave   \n",
       "1               -73.991026            3425         2 Ave  & E 104 St   \n",
       "2               -73.991834            3397      Court St & Nelson St   \n",
       "3               -73.963198             398  Atlantic Ave & Furman St   \n",
       "4               -73.963198             398  Atlantic Ave & Furman St   \n",
       "5               -73.991908             502       Henry St & Grand St   \n",
       "6               -73.978059             546      E 30 St & Park Ave S   \n",
       "7               -73.978059             546      E 30 St & Park Ave S   \n",
       "8               -73.971888            3363       E 102 St & Park Ave   \n",
       "9               -73.957390             468        Broadway & W 56 St   \n",
       "\n",
       "   end station latitude  end station longitude  bikeid    usertype  \\\n",
       "0             40.723117             -73.952123   14744  Subscriber   \n",
       "1             40.789211             -73.943708   19587  Subscriber   \n",
       "2             40.676395             -73.998699   27937  Subscriber   \n",
       "3             40.691652             -73.999979   26066  Subscriber   \n",
       "4             40.691652             -73.999979   29408  Subscriber   \n",
       "5             40.714215             -73.981346   21203  Subscriber   \n",
       "6             40.744449             -73.983035   15933    Customer   \n",
       "7             40.744449             -73.983035   18515    Customer   \n",
       "8             40.790483             -73.950331   29135  Subscriber   \n",
       "9             40.765265             -73.981923   17365  Subscriber   \n",
       "\n",
       "   birth year  gender  \n",
       "0      1986.0       1  \n",
       "1      1981.0       1  \n",
       "2      1984.0       2  \n",
       "3      1985.0       1  \n",
       "4      1982.0       2  \n",
       "5      1954.0       2  \n",
       "6      1971.0       1  \n",
       "7      1964.0       2  \n",
       "8      1982.0       1  \n",
       "9      1983.0       1  "
      ]
     },
     "execution_count": 95,
     "metadata": {},
     "output_type": "execute_result"
    }
   ],
   "source": [
    "data[0:10]"
   ]
  },
  {
   "cell_type": "code",
   "execution_count": 96,
   "metadata": {},
   "outputs": [
    {
     "data": {
      "text/html": [
       "<div>\n",
       "<style scoped>\n",
       "    .dataframe tbody tr th:only-of-type {\n",
       "        vertical-align: middle;\n",
       "    }\n",
       "\n",
       "    .dataframe tbody tr th {\n",
       "        vertical-align: top;\n",
       "    }\n",
       "\n",
       "    .dataframe thead th {\n",
       "        text-align: right;\n",
       "    }\n",
       "</style>\n",
       "<table border=\"1\" class=\"dataframe\">\n",
       "  <thead>\n",
       "    <tr style=\"text-align: right;\">\n",
       "      <th></th>\n",
       "      <th>tripduration</th>\n",
       "      <th>starttime</th>\n",
       "      <th>stoptime</th>\n",
       "      <th>start station id</th>\n",
       "      <th>start station name</th>\n",
       "      <th>start station latitude</th>\n",
       "      <th>start station longitude</th>\n",
       "      <th>end station id</th>\n",
       "      <th>end station name</th>\n",
       "      <th>end station latitude</th>\n",
       "      <th>end station longitude</th>\n",
       "      <th>bikeid</th>\n",
       "      <th>usertype</th>\n",
       "      <th>birth year</th>\n",
       "      <th>gender</th>\n",
       "    </tr>\n",
       "  </thead>\n",
       "  <tbody>\n",
       "    <tr>\n",
       "      <th>1735594</th>\n",
       "      <td>560</td>\n",
       "      <td>2017-07-31 23:59:33</td>\n",
       "      <td>2017-08-01 00:08:53</td>\n",
       "      <td>3260</td>\n",
       "      <td>Mercer St &amp; Bleecker St</td>\n",
       "      <td>40.727064</td>\n",
       "      <td>-73.996621</td>\n",
       "      <td>236</td>\n",
       "      <td>St Marks Pl &amp; 2 Ave</td>\n",
       "      <td>40.728419</td>\n",
       "      <td>-73.987140</td>\n",
       "      <td>16126</td>\n",
       "      <td>Subscriber</td>\n",
       "      <td>1990.0</td>\n",
       "      <td>2</td>\n",
       "    </tr>\n",
       "    <tr>\n",
       "      <th>1735595</th>\n",
       "      <td>272</td>\n",
       "      <td>2017-07-31 23:59:35</td>\n",
       "      <td>2017-08-01 00:04:08</td>\n",
       "      <td>247</td>\n",
       "      <td>Perry St &amp; Bleecker St</td>\n",
       "      <td>40.735354</td>\n",
       "      <td>-74.004831</td>\n",
       "      <td>434</td>\n",
       "      <td>9 Ave &amp; W 18 St</td>\n",
       "      <td>40.743174</td>\n",
       "      <td>-74.003664</td>\n",
       "      <td>27684</td>\n",
       "      <td>Subscriber</td>\n",
       "      <td>1999.0</td>\n",
       "      <td>1</td>\n",
       "    </tr>\n",
       "    <tr>\n",
       "      <th>1735596</th>\n",
       "      <td>1211</td>\n",
       "      <td>2017-07-31 23:59:37</td>\n",
       "      <td>2017-08-01 00:19:49</td>\n",
       "      <td>3303</td>\n",
       "      <td>Butler St &amp; Court St</td>\n",
       "      <td>40.684989</td>\n",
       "      <td>-73.994403</td>\n",
       "      <td>3308</td>\n",
       "      <td>Kane St &amp; Clinton St</td>\n",
       "      <td>40.686176</td>\n",
       "      <td>-73.996453</td>\n",
       "      <td>28402</td>\n",
       "      <td>Subscriber</td>\n",
       "      <td>1975.0</td>\n",
       "      <td>2</td>\n",
       "    </tr>\n",
       "    <tr>\n",
       "      <th>1735597</th>\n",
       "      <td>547</td>\n",
       "      <td>2017-07-31 23:59:48</td>\n",
       "      <td>2017-08-01 00:08:56</td>\n",
       "      <td>276</td>\n",
       "      <td>Duane St &amp; Greenwich St</td>\n",
       "      <td>40.717488</td>\n",
       "      <td>-74.010455</td>\n",
       "      <td>127</td>\n",
       "      <td>Barrow St &amp; Hudson St</td>\n",
       "      <td>40.731724</td>\n",
       "      <td>-74.006744</td>\n",
       "      <td>30150</td>\n",
       "      <td>Subscriber</td>\n",
       "      <td>1992.0</td>\n",
       "      <td>1</td>\n",
       "    </tr>\n",
       "    <tr>\n",
       "      <th>1735598</th>\n",
       "      <td>1816</td>\n",
       "      <td>2017-07-31 23:59:57</td>\n",
       "      <td>2017-08-01 00:30:13</td>\n",
       "      <td>3091</td>\n",
       "      <td>Frost St &amp; Meeker St</td>\n",
       "      <td>40.717640</td>\n",
       "      <td>-73.948820</td>\n",
       "      <td>258</td>\n",
       "      <td>DeKalb Ave &amp; Vanderbilt Ave</td>\n",
       "      <td>40.689407</td>\n",
       "      <td>-73.968855</td>\n",
       "      <td>19643</td>\n",
       "      <td>Customer</td>\n",
       "      <td>NaN</td>\n",
       "      <td>0</td>\n",
       "    </tr>\n",
       "  </tbody>\n",
       "</table>\n",
       "</div>"
      ],
      "text/plain": [
       "         tripduration            starttime             stoptime  \\\n",
       "1735594           560  2017-07-31 23:59:33  2017-08-01 00:08:53   \n",
       "1735595           272  2017-07-31 23:59:35  2017-08-01 00:04:08   \n",
       "1735596          1211  2017-07-31 23:59:37  2017-08-01 00:19:49   \n",
       "1735597           547  2017-07-31 23:59:48  2017-08-01 00:08:56   \n",
       "1735598          1816  2017-07-31 23:59:57  2017-08-01 00:30:13   \n",
       "\n",
       "         start station id       start station name  start station latitude  \\\n",
       "1735594              3260  Mercer St & Bleecker St               40.727064   \n",
       "1735595               247   Perry St & Bleecker St               40.735354   \n",
       "1735596              3303     Butler St & Court St               40.684989   \n",
       "1735597               276  Duane St & Greenwich St               40.717488   \n",
       "1735598              3091     Frost St & Meeker St               40.717640   \n",
       "\n",
       "         start station longitude  end station id             end station name  \\\n",
       "1735594               -73.996621             236          St Marks Pl & 2 Ave   \n",
       "1735595               -74.004831             434              9 Ave & W 18 St   \n",
       "1735596               -73.994403            3308         Kane St & Clinton St   \n",
       "1735597               -74.010455             127        Barrow St & Hudson St   \n",
       "1735598               -73.948820             258  DeKalb Ave & Vanderbilt Ave   \n",
       "\n",
       "         end station latitude  end station longitude  bikeid    usertype  \\\n",
       "1735594             40.728419             -73.987140   16126  Subscriber   \n",
       "1735595             40.743174             -74.003664   27684  Subscriber   \n",
       "1735596             40.686176             -73.996453   28402  Subscriber   \n",
       "1735597             40.731724             -74.006744   30150  Subscriber   \n",
       "1735598             40.689407             -73.968855   19643    Customer   \n",
       "\n",
       "         birth year  gender  \n",
       "1735594      1990.0       2  \n",
       "1735595      1999.0       1  \n",
       "1735596      1975.0       2  \n",
       "1735597      1992.0       1  \n",
       "1735598         NaN       0  "
      ]
     },
     "execution_count": 96,
     "metadata": {},
     "output_type": "execute_result"
    }
   ],
   "source": [
    "data[-5::]"
   ]
  },
  {
   "cell_type": "markdown",
   "metadata": {},
   "source": [
    "## 2. 检查每个字段是否有缺失值，统计各字段缺失值比例，并将数值转化为百分比形式，保留两位小数，如9.99%；最后用平均数或众数填充。（0.5分）\n",
    "(注意填充时一定要符合具体含义)\n"
   ]
  },
  {
   "cell_type": "code",
   "execution_count": 97,
   "metadata": {},
   "outputs": [
    {
     "name": "stdout",
     "output_type": "stream",
     "text": [
      "tripduration: 0.00%\n",
      "starttime: 0.00%\n",
      "stoptime: 0.00%\n",
      "start station id: 0.00%\n",
      "start station name: 0.00%\n",
      "start station latitude: 0.00%\n",
      "start station longitude: 0.00%\n",
      "end station id: 0.00%\n",
      "end station name: 0.00%\n",
      "end station latitude: 0.00%\n",
      "end station longitude: 0.00%\n",
      "bikeid: 0.00%\n",
      "usertype: 0.00%\n",
      "birth year: 13.17%\n",
      "gender: 0.00%\n"
     ]
    }
   ],
   "source": [
    "for col in data.columns:\n",
    "    percentage= (data[col].isnull().mean())\n",
    "    percentage = float(percentage)\n",
    "    print(str(col) +\": \" + '%.2f%%'%(percentage*100))\n",
    "    if(percentage > 0):\n",
    "        fillin = data[col].mode()\n",
    "        data[col].fillna(fillin)\n",
    "    "
   ]
  },
  {
   "cell_type": "markdown",
   "metadata": {},
   "source": [
    "## 3. 计算骑行时间(tripduration)字段的基本统计量，包括最大值、最小值、均值、各个四分位数及方差等。（0.5分）"
   ]
  },
  {
   "cell_type": "code",
   "execution_count": 98,
   "metadata": {},
   "outputs": [
    {
     "data": {
      "text/plain": [
       "count    1.735599e+06\n",
       "mean     1.060143e+03\n",
       "std      9.622457e+03\n",
       "min      6.100000e+01\n",
       "25%      3.950000e+02\n",
       "50%      6.760000e+02\n",
       "75%      1.183000e+03\n",
       "max      2.477222e+06\n",
       "Name: tripduration, dtype: float64"
      ]
     },
     "execution_count": 98,
     "metadata": {},
     "output_type": "execute_result"
    }
   ],
   "source": [
    "data['tripduration'].describe()"
   ]
  },
  {
   "cell_type": "markdown",
   "metadata": {},
   "source": [
    "## 4. 统计骑行时间大于等于2天的记录个数，并将相应记录从原DataFrame中剔除。（0.5分）\n",
    "骑行时间(tripduration)字段的单位为秒"
   ]
  },
  {
   "cell_type": "code",
   "execution_count": 99,
   "metadata": {},
   "outputs": [],
   "source": [
    "\n",
    "data.drop(data.loc[data['tripduration'] >= 2*24*60*60].index,inplace=True)\n",
    "#檢查\n",
    "for element in data['tripduration']:\n",
    "    if(element >= 2*24*60*60):\n",
    "        print(element)\n",
    "        #沒有印出任何東西=> 正確\n",
    "   "
   ]
  },
  {
   "cell_type": "markdown",
   "metadata": {},
   "source": [
    "## 5. 检查站点id和站点name是否一一对应。如果有id相同name不同，或id不同name相同的，将这些记录从数据中剔除。（0.5分）"
   ]
  },
  {
   "cell_type": "markdown",
   "metadata": {},
   "source": []
  },
  {
   "cell_type": "code",
   "execution_count": 100,
   "metadata": {},
   "outputs": [],
   "source": [
    "#dict\n",
    "grouping = data.groupby('start station id')\n",
    "for i in grouping['start station name'].nunique():\n",
    "    if i!=1:\n",
    "        data.drop(data.loc[data['start station name'] == i].index,inplace=True)\n",
    "        \n",
    "grouping_end = data.groupby('end station id')\n",
    "for i in grouping_end['end station name'].nunique():\n",
    "    if i!=1:\n",
    "        data.drop(data.loc[data['end station name'] == i].index,inplace=True)\n"
   ]
  },
  {
   "cell_type": "markdown",
   "metadata": {},
   "source": [
    "## 6. 根据bikeid字段统计在数据中有多少辆不同的自行车。（0.5分）"
   ]
  },
  {
   "cell_type": "code",
   "execution_count": 101,
   "metadata": {},
   "outputs": [
    {
     "name": "stdout",
     "output_type": "stream",
     "text": [
      "有10422辆不同的自行车\n"
     ]
    }
   ],
   "source": [
    "print(\"有\"+str(data['bikeid'].unique().size)+\"辆不同的自行车\")  "
   ]
  },
  {
   "cell_type": "markdown",
   "metadata": {},
   "source": [
    "## 7. 统计每辆自行车的骑行次数、总骑行时间、平均每次骑行时间、到过（出发或结束）的站点个数。（1.5分）\n",
    "生成以bikeid为index、指标为columns的DataFrame"
   ]
  },
  {
   "cell_type": "code",
   "execution_count": 102,
   "metadata": {},
   "outputs": [
    {
     "name": "stdout",
     "output_type": "stream",
     "text": [
      "       total ride  total time  average time stations count  station counts\n",
      "14744         184      202960   1103.043478            NaN             184\n",
      "19587         126      134979   1071.261905            NaN             126\n",
      "27937         182      165866    911.351648            NaN             182\n",
      "26066         175      146456    836.891429            NaN             175\n",
      "29408         221      214715    971.561086            NaN             221\n",
      "...           ...         ...           ...            ...             ...\n",
      "29210           1         386    386.000000            NaN               1\n",
      "28221          10        6122    612.200000            NaN              10\n",
      "26832          10       10768   1076.800000            NaN              10\n",
      "29644           2         939    469.500000            NaN               2\n",
      "19118           1         785    785.000000            NaN               1\n",
      "\n",
      "[10422 rows x 5 columns]\n"
     ]
    }
   ],
   "source": [
    "bike = pd.DataFrame(index=data['bikeid'].unique(), columns=['total ride','total time','average time','stations count'])\n",
    "bike['total ride'] = data['bikeid'].value_counts() #骑行次数\n",
    "bike['total time'] = data.groupby('bikeid')['tripduration'].sum()\n",
    "bike['average time'] = data.groupby('bikeid')['tripduration'].mean()\n",
    "bike['station counts'] = data.groupby('bikeid')['start station id'].count()\n",
    "\n",
    "print(bike)"
   ]
  },
  {
   "cell_type": "markdown",
   "metadata": {},
   "source": [
    "## 8. 统计出发站点、结束站点的个数，并考察两类站点的集合是否相等。（1分）"
   ]
  },
  {
   "cell_type": "code",
   "execution_count": 103,
   "metadata": {},
   "outputs": [
    {
     "name": "stdout",
     "output_type": "stream",
     "text": [
      "623 634\n",
      "二者並不相等\n"
     ]
    }
   ],
   "source": [
    "start = data['start station id'].unique().size\n",
    "end = data['end station id'].unique().size\n",
    "print(start,end)\n",
    "if(start !=end):\n",
    "    print(\"二者並不相等\")\n",
    "else:\n",
    "    print(\"二者相等\")"
   ]
  },
  {
   "cell_type": "markdown",
   "metadata": {},
   "source": [
    "## 9. 统计以各站点作为起始站点和结束站点的行程数，并找到出发行程最多的前三个站点的id和name，和结束行程最多的前三个站点的id和name。（1分）"
   ]
  },
  {
   "cell_type": "code",
   "execution_count": 104,
   "metadata": {},
   "outputs": [
    {
     "name": "stdout",
     "output_type": "stream",
     "text": [
      "start station id  start station name   \n",
      "519               Pershing Square North    14853\n",
      "426               West St & Chambers St    14118\n",
      "514               12 Ave & W 40 St         12263\n",
      "dtype: int64\n"
     ]
    }
   ],
   "source": [
    "start_station = data.groupby(['start station id','start station name']).size()\n",
    "print(start_station.sort_values(ascending=False)[:3])\n",
    "\n",
    "#data.groupby('start station name')\n"
   ]
  },
  {
   "cell_type": "markdown",
   "metadata": {},
   "source": [
    "## 10. 统计每天7:00-9:00最繁忙（出发和结束行程最多）的3个站点。（1分）\n",
    "（包括起始行程和结束行程）"
   ]
  },
  {
   "cell_type": "code",
   "execution_count": 105,
   "metadata": {},
   "outputs": [],
   "source": [
    "import time\n"
   ]
  },
  {
   "cell_type": "code",
   "execution_count": 106,
   "metadata": {},
   "outputs": [
    {
     "name": "stdout",
     "output_type": "stream",
     "text": [
      "每天7:00-9:00最繁忙（出发和结束行程最多）的3个站点与其行程数量\n"
     ]
    },
    {
     "data": {
      "text/plain": [
       "Pershing Square North    7120.0\n",
       "E 47 St & Park Ave       5310.0\n",
       "Broadway & E 22 St       4523.0\n",
       "dtype: float64"
      ]
     },
     "execution_count": 106,
     "metadata": {},
     "output_type": "execute_result"
    }
   ],
   "source": [
    "data['starttime'] = pd.to_datetime(data['starttime'])\n",
    "seven_nine = data[data['starttime'].dt.hour.isin(np.arange(7, 10))]\n",
    "a = seven_nine.groupby('start station name').size()\n",
    "b = seven_nine.groupby('end station name').size()\n",
    "print(\"每天7:00-9:00最繁忙（出发和结束行程最多）的3个站点与其行程数量\")\n",
    "(a+b).sort_values(ascending=False)[:3]\n"
   ]
  },
  {
   "cell_type": "markdown",
   "metadata": {},
   "source": []
  },
  {
   "cell_type": "markdown",
   "metadata": {},
   "source": [
    "## 11. 统计每天17:00-19:00最繁忙的3条（有向）路线。（1分）\n",
    "（A->B与B->A算作两条不同路线）"
   ]
  },
  {
   "cell_type": "code",
   "execution_count": 107,
   "metadata": {},
   "outputs": [
    {
     "name": "stdout",
     "output_type": "stream",
     "text": [
      "17：00-19：00前3繁忙路线如下\n"
     ]
    },
    {
     "data": {
      "text/plain": [
       "start station name          end station name         \n",
       "E 7 St & Avenue A           Cooper Square & E 7 St       395\n",
       "Richardson St & N Henry St  Graham Ave & Conselyea St    197\n",
       "E 102 St & 1 Ave            2 Ave & E 96 St              193\n",
       "dtype: int64"
      ]
     },
     "execution_count": 107,
     "metadata": {},
     "output_type": "execute_result"
    }
   ],
   "source": [
    "five_seven = data[data['starttime'].dt.hour.isin(np.arange(17, 19))]\n",
    "c = seven_nine.groupby(['start station name','end station name']).size()\n",
    "print(\"17：00-19：00前3繁忙路线如下\")\n",
    "c.sort_values(ascending=False)[:3]"
   ]
  },
  {
   "cell_type": "markdown",
   "metadata": {},
   "source": [
    "## 12. 统计usertype的中用户类型个数，并分析每类用户在骑行时长、每天骑行时间段上的差异（1.5分）"
   ]
  },
  {
   "cell_type": "code",
   "execution_count": 108,
   "metadata": {},
   "outputs": [
    {
     "name": "stdout",
     "output_type": "stream",
     "text": [
      "有2种用户类型\n",
      "以下打印出用户类型名称与其骑行时长的基本统计量\n",
      "Customer\n",
      "count    261514.000000\n",
      "mean       1770.311486\n",
      "std        3855.643294\n",
      "min          61.000000\n",
      "25%         850.000000\n",
      "50%        1292.000000\n",
      "75%        1741.000000\n",
      "max      172653.000000\n",
      "Name: tripduration, dtype: float64\n",
      "Subscriber\n",
      "count    1.473758e+06\n",
      "mean     8.132857e+02\n",
      "std      1.437236e+03\n",
      "min      6.100000e+01\n",
      "25%      3.670000e+02\n",
      "50%      6.030000e+02\n",
      "75%      1.021000e+03\n",
      "max      1.725300e+05\n",
      "Name: tripduration, dtype: float64\n"
     ]
    }
   ],
   "source": [
    "\n",
    "usertype = data.groupby('usertype')\n",
    "print(\"有\"+str(usertype.size().size)+\"种用户类型\")\n",
    "print(\"以下打印出用户类型名称与其骑行时长的基本统计量\")\n",
    "for i in usertype.size().index:\n",
    "    user_data = usertype.get_group(i)\n",
    "    print(i)\n",
    "    #print(user_data)\n",
    "    print(user_data['tripduration'].describe())\n"
   ]
  },
  {
   "cell_type": "code",
   "execution_count": null,
   "metadata": {},
   "outputs": [],
   "source": []
  }
 ],
 "metadata": {
  "kernelspec": {
   "display_name": "Python 3",
   "language": "python",
   "name": "python3"
  },
  "language_info": {
   "codemirror_mode": {
    "name": "ipython",
    "version": 3
   },
   "file_extension": ".py",
   "mimetype": "text/x-python",
   "name": "python",
   "nbconvert_exporter": "python",
   "pygments_lexer": "ipython3",
   "version": "3.8.8"
  }
 },
 "nbformat": 4,
 "nbformat_minor": 2
}
