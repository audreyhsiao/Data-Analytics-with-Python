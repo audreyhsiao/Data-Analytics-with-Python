{
 "cells": [
  {
   "cell_type": "markdown",
   "metadata": {},
   "source": [
    "# 第三次个人作业（机器学习 + 社会网络分析，满分15分）"
   ]
  },
  {
   "cell_type": "markdown",
   "metadata": {},
   "source": [
    "### 第一部分：机器学习（本部分满分10分）"
   ]
  },
  {
   "cell_type": "markdown",
   "metadata": {},
   "source": [
    "1.1（共6分）请针对Cylinder Bands数据集（bands.data文件）以最后一个字段（band type）为标签，利用第5个至第39个字段为特征建立分类模型。  \n",
    "数据集介绍请参考[链接](https://archive.ics.uci.edu/ml/datasets/Cylinder+Bands)。注意，模型准确率不影响本作业的得分。\n",
    "\n",
    "作业具体要求如下："
   ]
  },
  {
   "cell_type": "markdown",
   "metadata": {},
   "source": [
    "1.1.1 数据预处理（2分）  \n",
    "(1) 选择合适的预处理处理方式对标称变量编码（1分）；   \n",
    "(2) 找到缺失值，并选择合适方式对缺失值填充（1分）。  \n"
   ]
  },
  {
   "cell_type": "code",
   "execution_count": null,
   "metadata": {},
   "outputs": [],
   "source": [
    "import numpy as np\n",
    "import pandas as pd\n",
    "import seaborn as sns\n",
    "sns.set(color_codes=True)"
   ]
  },
  {
   "cell_type": "code",
   "execution_count": null,
   "metadata": {},
   "outputs": [],
   "source": [
    "\n",
    "\n",
    "\n",
    "data = pd.read_csv('bands.data')\n",
    "data.columns=['timestamp','cylinder number','customer','job number','grain screened','ink color','proof on ctd ink','blade mfg',\n",
    "                     'cylinder division','paper type','ink type','direct steam','solvent type','type on cylinder','press type','press','unit number',\n",
    "                     'cylinder size','paper mill location','plating tank','proof cut','viscosity','caliper','ink temperature','humifity','roughness','blade pressure',\n",
    "                     'varnish pct','press speed','ink pct','solvent pct','ESA Voltage','ESA Amperage','wax','hardener','roller durometer','current density','anode space ratio',\n",
    "                     'chrome content','band_type']\n",
    "\n",
    "data.info()\n",
    "\n",
    "(data[data.isnull().values==True])\n"
   ]
  },
  {
   "cell_type": "code",
   "execution_count": null,
   "metadata": {},
   "outputs": [],
   "source": [
    "numeric_nalist = ['proof cut','viscosity','caliper','ink temperature','humifity','roughness','blade pressure','varnish pct','press speed',\n",
    "                  'ink pct','solvent pct','ESA Voltage',\n",
    "                  'ESA Amperage','wax','hardener','roller durometer','current density','anode space ratio','chrome content']\n",
    "nominal_nalist = ['plating tank','cylinder size','paper mill location']\n",
    "\n",
    "\\\n",
    "\n",
    "for i in numeric_nalist:\n",
    "    #print(data[i])\n",
    "    data[i].replace('?',np.nan,inplace=True)\n",
    "    data[i] = data[i].replace('band',np.nan) #处理脏数据\n",
    "    data[i] = data[i].astype(float)\n",
    "    data[i].fillna(value=data[i].mean(), inplace=True)\n",
    "\n",
    "data = data.dropna(how='any')\n",
    "    \n",
    "    \n",
    "data['band_type'].fillna('nonband', inplace=True)\n",
    "\n",
    "#print(data)\n",
    "data[data.isnull().values==True]\n",
    "\n"
   ]
  },
  {
   "cell_type": "code",
   "execution_count": null,
   "metadata": {},
   "outputs": [],
   "source": [
    "from sklearn.preprocessing import LabelEncoder\n",
    "labelencoder = LabelEncoder()\n",
    "#data_le = pd.DataFrame(data)\n",
    "\n",
    "for i in data.columns[4:21]:\n",
    "    data[i] = labelencoder.fit_transform(data[i])\n",
    "  \n",
    "data['band_type'] = labelencoder.fit_transform(data['band_type'])  \n",
    "    \n",
    "\n"
   ]
  },
  {
   "cell_type": "code",
   "execution_count": null,
   "metadata": {},
   "outputs": [],
   "source": [
    "#對於定類類型的數據，建議使用one-hot encoding。定類類型就是純分類，不排序，沒有邏輯關係。\n",
    "# 比如性別分男和女，男女不存在任何邏輯關係，我們不能說男就比女好，或者相反。再者，中國各省市分類也可以用獨熱編碼，同樣各省不存在邏輯關係，\n",
    "# 這時候使用one-hot encoding會合適些。但注意，一般會捨去一個變量，比如男的對立面肯定是女，那麼女就是重複信息，所以保留其中一個變量即可。\n",
    "#pd.get_dummies(data['band_type'])\n",
    "\n",
    "\n",
    "#以最后一个字段（band type）为标签，利用第5个至第39个字段为特征建立分类模型。  \n",
    "features = data.iloc[:,4:39]\n",
    "\n",
    "label = data.band_type\n"
   ]
  },
  {
   "cell_type": "markdown",
   "metadata": {},
   "source": [
    "1.1.2 建立模型（2分）：选择2个不同的模型进行建模，并统计训练准确率。"
   ]
  },
  {
   "cell_type": "markdown",
   "metadata": {},
   "source": [
    " 第一个模型：高斯朴素贝叶斯\n",
    " "
   ]
  },
  {
   "cell_type": "code",
   "execution_count": null,
   "metadata": {},
   "outputs": [],
   "source": [
    "from sklearn.naive_bayes import GaussianNB\n",
    "from sklearn.model_selection import train_test_split\n",
    "\n",
    "\n",
    "\n",
    "#將資料區分成訓練集與測試集\n",
    "X_train, X_test, y_train, y_test = train_test_split(features,label, test_size=0.2, random_state=1)\n",
    "\n",
    "\n",
    "clf = GaussianNB(var_smoothing=1e-8)\n",
    "#prior:\n",
    "#可輸入任何類陣列結構，形狀為（n_classes，）,表示類的先驗概率。\n",
    "#如果指定，則不根據資料調整先驗，如果不指定，則自行根據資料計算先驗概率P(Y)。\n",
    "#浮點數，可不填（預設值= 1e-9）\n",
    "#var_smoothing:\n",
    "#在估計方差時，為了追求估計的穩定性，將所有特徵的方差中最⼤大的方差以某個比例新增到估計的方差中。\n",
    "#這個比例，由var_smoothing引數控制。\n",
    "clf.fit(X_train, y_train)\n"
   ]
  },
  {
   "cell_type": "code",
   "execution_count": null,
   "metadata": {},
   "outputs": [],
   "source": [
    "y_pred = clf.predict(X_test)\n",
    "acc = np.sum(y_test == y_pred) / X_test.shape[0]\n",
    "print(\"Test Acc : %.3f\" % acc)\n",
    "\n",
    "# 預測\n",
    "y_proba = clf.predict_proba(X_test[:1])\n",
    "#X_test[:1]表示的是第一個樣本，y_proba輸出的是一個概率值。\n",
    "print(clf.predict(X_test[:1]))\n",
    "#predict直接輸出的預測的分類值\n",
    "print(\"预计的概率值:\", y_proba)\n"
   ]
  },
  {
   "cell_type": "markdown",
   "metadata": {},
   "source": [
    "第二个模型：决策树"
   ]
  },
  {
   "cell_type": "code",
   "execution_count": null,
   "metadata": {},
   "outputs": [],
   "source": [
    "from sklearn import tree \n",
    "\n",
    "X_train2, X_test2, y_train2, y_test2 = train_test_split(features,label, test_size=0.3, random_state=0)\n",
    "clf2 = tree.DecisionTreeClassifier().fit(X_train2, y_train2)\n"
   ]
  },
  {
   "cell_type": "code",
   "execution_count": null,
   "metadata": {},
   "outputs": [],
   "source": [
    "y_pred2 = clf2.predict(X_test2)\n",
    "acc2 = np.sum(y_test2 == y_pred2) / X_test2.shape[0]\n",
    "print(\"Test Acc : %.3f\" % acc2)\n",
    "\n",
    "# 預測\n",
    "y_proba2 = clf2.predict_proba(X_test2[:1])\n",
    "#X_test[:1]表示的是第一個樣本，y_proba輸出的是一個概率值。\n",
    "print(clf2.predict(X_test2[:1]))\n",
    "#predict直接輸出的預測的分類值\n",
    "print(\"预计的概率值:\", y_proba2)"
   ]
  },
  {
   "cell_type": "markdown",
   "metadata": {},
   "source": [
    "图像化决策树"
   ]
  },
  {
   "cell_type": "code",
   "execution_count": null,
   "metadata": {},
   "outputs": [],
   "source": [
    "from matplotlib import pyplot as plt\n",
    "dot_data = tree.export_graphviz(clf2, out_file = None)\n",
    "\n",
    "#fig, ax = plt.subplots(figsize=(25, 25))\n",
    "plt.figure(figsize=(20,20))\n",
    "tree.plot_tree(clf2, fontsize=12)\n",
    "\n",
    "plt.show()\n",
    "\n",
    "#graph.write_pdf(‘predict.pdf’)"
   ]
  },
  {
   "cell_type": "markdown",
   "metadata": {},
   "source": [
    "\\1.1.3 模型比较（2分）  \n",
    "(1) 比较不同模型的混淆矩阵（1分）；  \n"
   ]
  },
  {
   "cell_type": "code",
   "execution_count": null,
   "metadata": {},
   "outputs": [],
   "source": [
    "from sklearn.metrics import plot_confusion_matrix,confusion_matrix\n",
    "print(confusion_matrix(y_test, y_pred, labels=None, sample_weight=None))\n",
    "print(confusion_matrix(y_test2, y_pred2, labels=None, sample_weight=None))\n",
    "\n",
    "disp = plot_confusion_matrix(clf, X_test, y_test, cmap=plt.cm.Blues, normalize='true')\n",
    "disp2 = plot_confusion_matrix(clf, X_test2, y_test2, cmap=plt.cm.Blues, normalize='true')"
   ]
  },
  {
   "cell_type": "markdown",
   "metadata": {},
   "source": [
    "(2) 比较不同模型的ROC曲线（0.5分） ；   \n",
    "(3) 比较不同模型的AUC值（0.5分） 。"
   ]
  },
  {
   "cell_type": "code",
   "execution_count": null,
   "metadata": {},
   "outputs": [],
   "source": [
    "from sklearn.metrics import roc_curve\n",
    "from sklearn.metrics import auc\n",
    "\n",
    "\n",
    "\n",
    "fpr, tpr, thresholds = roc_curve(np.array(y_test), np.array(y_pred), pos_label=1)\n",
    "auc = auc(fpr, tpr)\n",
    "print('GaussianNB的AUC值：',auc)\n",
    "\n",
    "plt.plot(fpr, tpr, color = 'purple', marker='s',label = 'AUC = %0.2f' % auc)\n",
    "plt.legend(loc = 'lower right')\n",
    "plt.xlabel(\"FPR\")\n",
    "plt.ylabel(\"TPR\")\n",
    "plt.title('Receiver Operating Characteristic for GaussianNB')\n",
    "\n",
    "\n",
    "plt.show()\n",
    "#plt.xlim([0, 1])\n",
    "#plt.ylim([0, 1])"
   ]
  },
  {
   "cell_type": "code",
   "execution_count": null,
   "metadata": {},
   "outputs": [],
   "source": [
    "fpr2, tpr2, thresholds2 = roc_curve(np.array(y_test2), np.array(y_pred2),sample_weight=None)\n",
    "\n",
    "from sklearn.metrics import auc\n",
    "auc_2 = auc(fpr2, tpr2)\n",
    "print('DecisionTree 的 AUC 值：',auc_2)\n",
    "\n",
    "plt.xlabel(\"FPR\")\n",
    "plt.ylabel(\"TPR\")\n",
    "plt.title('Receiver Operating Characteristic for Decision Tree')\n",
    "plt.plot(fpr2, tpr2, color = 'orange', marker='s',label = 'AUC = %0.2f' % auc_2)\n",
    "plt.legend(loc = 'lower right')\n",
    "plt.show()\n",
    "\n"
   ]
  },
  {
   "cell_type": "markdown",
   "metadata": {},
   "source": [
    "1.2.（共4分）请利用\"BASKET.txt\"数据集进行分析。  \n",
    "作业具体要求如下："
   ]
  },
  {
   "cell_type": "markdown",
   "metadata": {},
   "source": [
    "1.2.1 探索性数据分析（2分）  \n"
   ]
  },
  {
   "cell_type": "code",
   "execution_count": null,
   "metadata": {},
   "outputs": [],
   "source": [
    "data = pd.read_csv('BASKETS.txt')"
   ]
  },
  {
   "cell_type": "markdown",
   "metadata": {},
   "source": [
    "(1) 分析数据集中除cardid以外各个字段分布情况，并绘图展示（1分）；"
   ]
  },
  {
   "cell_type": "code",
   "execution_count": null,
   "metadata": {},
   "outputs": [],
   "source": [
    "value = data.value\n",
    "income = data.income.cumsum()\n",
    "age = data.age\n",
    "\n",
    "fig = plt.figure()\n",
    "#axe = fig.add_subplot()\n",
    "\n",
    "sns.displot(value,binwidth=3)\n",
    "sns.displot(income,bins=20)\n",
    "sns.displot(age)\n",
    "plt.show()\n",
    "\n",
    "import matplotlib.pyplot as plt\n",
    "data.columns\n",
    "colormap = ['#1f7a8c','#ffd670','#5f0f40']\n",
    "\n",
    "for i in ['pmethod', 'sex', 'homeown']:\n",
    "    parameters = data[i].unique()\n",
    "    category = []\n",
    "    for k in parameters:\n",
    "        a = data.groupby(i).get_group(k)\n",
    "        category.append(len(a))\n",
    "    \n",
    "   \n",
    "    plt.title('distribution of different'+i+'in this data')\n",
    "    plt.pie(category,labels=parameters,colors=colormap,autopct=\"%3.1f%%\",startangle=6.0)\n",
    "    #plt.bar(,align='center',width=.8,color='salmon')\n",
    "    plt.show()\n",
    "    print(parameters,':')\n",
    "    print(category)\n",
    "    \n",
    "\n",
    "\n"
   ]
  },
  {
   "cell_type": "markdown",
   "metadata": {},
   "source": [
    "(2) 分析支付方式（pmethod）与金额（value）、性别（sex）、是否有房屋（homeown），收入（income）、年龄（age）之间的关系；请大家分别分析支付方式与题目中所列其他各变量之间的关系（1分）。"
   ]
  },
  {
   "cell_type": "code",
   "execution_count": null,
   "metadata": {},
   "outputs": [],
   "source": [
    "sns.displot(data, x=\"value\", col=\"pmethod\")\n",
    "sns.displot(data, x=\"sex\", col=\"pmethod\",binwidth=3)\n"
   ]
  },
  {
   "cell_type": "markdown",
   "metadata": {},
   "source": [
    "1.2.2 关联规则挖掘（2分）  \n",
    "(1) 利用fruitveg, freshmeat, dairy, cannedveg, cannedmeat, frozenmeal, beer, wine, softdrink, fish, confectionery字段进行关联规则挖掘\n",
    "，可自行指定最小支持度和最小置信度阈值，并给出理由（1分）；     \n"
   ]
  },
  {
   "cell_type": "markdown",
   "metadata": {},
   "source": [
    "如果根据公司策略想找寻更多不同种类的产品组合，那么可将最小支持度降低，此举将帮助我们找到更多的产品组合。\n",
    "\n",
    "新增的产品组合中若有支持度低但提升度高的组合，即为具有潜力的产品组合。然而最小支持度过低，容易造成商品组合的决策困难，因为可能在选出的组合中，该商品销售量虽少却具有不错的销售潜力，但却因支持度太低，而没有被选为最终的产品组合。本次案例中我观察各种结果、搭配题目要求之后将支持度设为0.062。其必须根据实际情形不同进行更动。"
   ]
  },
  {
   "cell_type": "code",
   "execution_count": null,
   "metadata": {},
   "outputs": [],
   "source": [
    "market_data = set()\n",
    "\n",
    "#print(data.columns[7:19])\n",
    "for i in data.index:\n",
    "    #print(data.loc[i])\n",
    "    a = []\n",
    "    for col in data.columns[7:19]:\n",
    "        if data.loc[i,col] == 'T':\n",
    "            a.append(col)\n",
    "        else:\n",
    "            pass\n",
    "   \n",
    "    market_data.add(tuple(a))\n",
    "\n",
    "from efficient_apriori import apriori\n",
    "\n",
    "association_rules = apriori(market_data, min_support=0.062, min_confidence=0.65)\n",
    "association_results = list(association_rules)\n"
   ]
  },
  {
   "cell_type": "markdown",
   "metadata": {},
   "source": [
    "(2) 选出至少4条找到的关联规则进行比较和解释（1分）。"
   ]
  },
  {
   "cell_type": "code",
   "execution_count": null,
   "metadata": {},
   "outputs": [],
   "source": [
    "for i in association_rules[-1:-2:-1]:\n",
    "    print(i)\n",
    "\n",
    "rules = association_rules"
   ]
  },
  {
   "cell_type": "markdown",
   "metadata": {},
   "source": [
    "我找到的规则有\n",
    "- 啤酒、肉类罐头 -> 罐头蔬菜\n",
    "- 罐头蔬菜、速冻食品 -> 啤酒\n",
    "- 啤酒、速冻食品 -> 罐头蔬菜\n",
    "- 啤酒、罐头蔬菜 -> 速冻食品"
   ]
  },
  {
   "cell_type": "markdown",
   "metadata": {},
   "source": [
    "可以发现速冻食品、啤酒、罐头蔬菜是这间商店中常常被一起购买的商品，推测是一种顾客的生活模式造成的倾向（这些食物都不如生鲜或者红酒等一样有严格保质期、需要较为复杂的处理或者鉴赏区分能力）\n",
    "知道这间店的顾客有打包购买非生鲜类产品（速冻食品、罐头）等的倾向（一次会购买不只一种非生鲜产品）"
   ]
  },
  {
   "cell_type": "markdown",
   "metadata": {},
   "source": [
    "### 第二部分：社会网络分析（本部分满分5分）"
   ]
  },
  {
   "cell_type": "markdown",
   "metadata": {},
   "source": [
    "数据：MAG数据可视化领域的数据（和之前的练习、作业相同的数据）。"
   ]
  },
  {
   "cell_type": "markdown",
   "metadata": {},
   "source": [
    "2.1 请构建作者和作者之间的合著网络（节点：作者；无向边：两个作者之间存在合著关系，即他们至少一次同时出现在一篇论文的作者列表中；边的权重：两个作者间的合著次数）。计算以下指标或回答以下问题（共2.75分）："
   ]
  },
  {
   "cell_type": "code",
   "execution_count": null,
   "metadata": {},
   "outputs": [],
   "source": [
    "import networkx as nx\n",
    "import nxviz as nv\n",
    "from collections import Counter\n",
    "\n",
    "data = pd.read_csv('data_sn/dataset/author2paper_table.txt')\n",
    "\n",
    "#print(data.columns)\n",
    "\n",
    "df = pd.DataFrame(columns=['paper_id','author_id','author_sequence_number'])\n",
    "\n",
    "for i in range(1,len(data.index)):\n",
    "    df.loc[i] = str(data.iloc[i].values).split(';',3)\n",
    "    \n",
    "for i in range(1,58139):\n",
    "    df.paper_id[i] = df.paper_id[i].replace('[','')\n",
    "    df.paper_id[i] = df.paper_id[i].replace('\\'','')\n",
    "    df.author_sequence_number[i] = df.author_sequence_number[i].replace('\\'','')\n",
    "    df.author_sequence_number[i] = df.author_sequence_number[i].replace(']','')"
   ]
  },
  {
   "cell_type": "code",
   "execution_count": null,
   "metadata": {},
   "outputs": [],
   "source": [
    "G = nx.Graph()\n",
    "G.add_nodes_from(df.author_id.unique())"
   ]
  },
  {
   "cell_type": "code",
   "execution_count": null,
   "metadata": {},
   "outputs": [],
   "source": [
    "for i in df.paper_id.unique():\n",
    "    paper = df.groupby('paper_id').get_group(i)\n",
    "    authorsList = paper.author_id.tolist()\n",
    "    #print(authorsList)\n",
    "    for j in range(0,len(authorsList)):\n",
    "        for k in range(len(authorsList)-1,j,-1):\n",
    "            try:\n",
    "                w = nx.get_edge_data(G,authorsList[j],authorsList[k])\n",
    "                G.add_edge(authorsList[j],authorsList[k],weight=w+1)\n",
    "            except:\n",
    "                G.add_edge(authorsList[j],authorsList[k],weight=1)\n",
    "            "
   ]
  },
  {
   "cell_type": "markdown",
   "metadata": {},
   "source": [
    "（1）网络中节点的数量（0.25分）；\n"
   ]
  },
  {
   "cell_type": "code",
   "execution_count": null,
   "metadata": {},
   "outputs": [],
   "source": [
    "print(G.number_of_nodes())"
   ]
  },
  {
   "cell_type": "markdown",
   "metadata": {},
   "source": [
    "（2）网络中边的数量（0.25分）；"
   ]
  },
  {
   "cell_type": "code",
   "execution_count": null,
   "metadata": {},
   "outputs": [],
   "source": [
    "print(G.number_of_edges())"
   ]
  },
  {
   "cell_type": "markdown",
   "metadata": {},
   "source": [
    "（3）网络的平均聚类系数（Average clustering coefficient）（0.25分）；"
   ]
  },
  {
   "cell_type": "code",
   "execution_count": null,
   "metadata": {},
   "outputs": [],
   "source": [
    "nx.average_clustering(G)"
   ]
  },
  {
   "cell_type": "markdown",
   "metadata": {},
   "source": [
    "（4）网络的密度（0.25分）；"
   ]
  },
  {
   "cell_type": "code",
   "execution_count": null,
   "metadata": {},
   "outputs": [],
   "source": [
    "nx.density(G)"
   ]
  },
  {
   "cell_type": "markdown",
   "metadata": {},
   "source": [
    "（5）对边权的分布做可视化，并对可视化结果做简要描述（0.5分，其中可视化0.25分，描述0.25分）；"
   ]
  },
  {
   "cell_type": "markdown",
   "metadata": {},
   "source": [
    "（6）对节点的度分布进行描述（0.5分，其中对度分布进行适当的可视化0.25分，对结果做描述0.25分）；"
   ]
  },
  {
   "cell_type": "code",
   "execution_count": 489,
   "metadata": {},
   "outputs": [
    {
     "data": {
      "image/png": "[encoded data removed]",
      "text/plain": [
       "<Figure size 864x432 with 1 Axes>"
      ]
     },
     "metadata": {},
     "output_type": "display_data"
    }
   ],
   "source": [
    "plt.figure(figsize=(12,6))\n",
    "de = dict(G.degree)\n",
    "#print(de)\n",
    "# keys为节点的id，values为节点对应的出度\n",
    "keys = [de[v] for v in de.keys()]\n",
    "values = [v for v in de.values()]\n",
    "\n",
    "mean =np.array(values).sum()/len(values)\n",
    "plt.hist(values,bins=len(values),color=\"lightblue\" ,alpha=1,width=1)\n",
    "plt.axvline(mean,linestyle=\"--\")\n",
    "#plt.annotate(mean+1,8000,'average degree num of the nodes:'+str(mean))\n",
    "plt.annotate('average degree num of the nodes:'+str(mean),xy=(mean,9000),xytext=(mean+2,8000),\n",
    "             arrowprops=dict(arrowstyle=\"->\",connectionstyle=\"arc3\",color=\"b\"))\n",
    "plt.xlabel(\"degree\")\n",
    "plt.ylabel(\"number of nodes\")\n",
    "plt.xlim(0,45)\n",
    "plt.xticks(np.arange(0,50,5))\n",
    "plt.title('distribution of nodes\\' degree',fontsize=15)\n",
    "plt.show()\n"
   ]
  },
  {
   "cell_type": "markdown",
   "metadata": {},
   "source": [
    "节点度数皆小于50，平均数是4.65左右，可以推测每个作者的平均学术合作伙伴为4-5个。"
   ]
  },
  {
   "cell_type": "markdown",
   "metadata": {},
   "source": [
    "（7）选择网络中节点度数最高的5个节点，然后计算它们的degree centrality和closeness centrality（0.75分）。"
   ]
  },
  {
   "cell_type": "code",
   "execution_count": null,
   "metadata": {},
   "outputs": [],
   "source": [
    "\n",
    "c_central = nx.closeness_centrality(G)\n",
    "d_central = nx.degree_centrality(G)\n",
    "print(\"网络中节点度数最高的5个节点:\")\n",
    "for i in range(0,6):\n",
    "    k = str(degreeSorted[i]).split(\",\")[0].replace(\"(\",\"\").replace(\"'\",\"\")\n",
    "    print(\"节点的作者id: \"+k)\n",
    "    print(\"closeness centrality:\",c_central[k])\n",
    "    print(\"degree centrality:\",d_central[k])\n"
   ]
  },
  {
   "cell_type": "markdown",
   "metadata": {},
   "source": [
    "2.2 请构建论文和论文之间的引用网络（节点：论文，有向边：论文A引用了论文B，意即论文B出现在了A的参考文献列表中，边的权重：无）。计算以下指标或回答以下问题（共1.75分）："
   ]
  },
  {
   "cell_type": "code",
   "execution_count": null,
   "metadata": {},
   "outputs": [],
   "source": [
    "data_paper = pd.read_csv('data_sn/dataset/citation_table.txt')\n",
    "df2 = pd.DataFrame(columns=['citing_id','cited_id'])\n",
    "\n",
    "for i in range(1,len(data_paper.index)):\n",
    "    df2.loc[i] = str(data_paper.loc[i].values).split(';',2)"
   ]
  },
  {
   "cell_type": "code",
   "execution_count": null,
   "metadata": {},
   "outputs": [],
   "source": [
    "for i in range(1,230166):\n",
    "    df2.citing_id[i] = df2.citing_id[i].replace('[','')\n",
    "    df2.citing_id[i] = df2.citing_id[i].replace('\\'','')\n",
    "    df2.cited_id[i] = df2.cited_id[i].replace('\\'','')\n",
    "    df2.cited_id[i] = df2.cited_id[i].replace(']','')"
   ]
  },
  {
   "cell_type": "code",
   "execution_count": null,
   "metadata": {},
   "outputs": [],
   "source": [
    "G2= nx.DiGraph()\n",
    "G2.add_nodes_from(df2.citing_id.unique())\n"
   ]
  },
  {
   "cell_type": "code",
   "execution_count": 491,
   "metadata": {},
   "outputs": [],
   "source": [
    "for i in range(1,len(df2)):\n",
    "    G2.add_edge(df2.citing_id[i],df2.cited_id[i])"
   ]
  },
  {
   "cell_type": "markdown",
   "metadata": {},
   "source": [
    "\n",
    "（1）找出两个你认为比较“重要”的节点（建议使用上课提到的几种中心性），然后计算它们之间的最短路径（0.5分）；\n"
   ]
  },
  {
   "cell_type": "code",
   "execution_count": null,
   "metadata": {},
   "outputs": [],
   "source": [
    "c_central = nx.closeness_centrality(G2)\n",
    "d_central = nx.degree_centrality(G2)\n",
    "\n",
    "c_central #皆为0，所以不使用\n",
    "\n",
    "sortedDC = sorted(d_central.items(),key=lambda i:i[1],reverse=True) #对degree_centrality结果进行排序"
   ]
  },
  {
   "cell_type": "code",
   "execution_count": null,
   "metadata": {},
   "outputs": [],
   "source": [
    "top2 = [] #找出度数中心度最高的两节点\n",
    "for i in [0,2]:\n",
    "    top2.append(str(sortedDC[i]).split(\",\")[0].replace(\"(\",\"\").replace(\"'\",\"\"))\n",
    "    \n",
    "try:\n",
    "    nx.shortest_path(G2,top2[0],top2[1])\n",
    "except:\n",
    "    print(\"两节点之间没有最短路径\")\n"
   ]
  },
  {
   "cell_type": "markdown",
   "metadata": {},
   "source": [
    "\n",
    "（2）从现在的引用网络中构建一个子网络，这个子网络的所有节点在原引用网络都至少被引5次，这个子网络的边即上述筛选过的节点之间的引用关系。请使用边列表（edgelist）的形式将这个子网络写（write）入一个文件中。（1.25分，其中正确的建立子网络1分，写入文件0.25分）；"
   ]
  },
  {
   "cell_type": "code",
   "execution_count": null,
   "metadata": {},
   "outputs": [],
   "source": [
    "degree = G2.degree()\n",
    "#a = dict(a)\n",
    "degreeDict = {}\n",
    "for data in degree:\n",
    "    data = str(data).replace('\\'',\"\").replace('(',\"\").replace(')',\"\")\n",
    "    data = data.split(\",\",2)\n",
    "    degreeDict[data[0]]=data[1]\n",
    "\n",
    "degreeSorted = sorted(degreeDict.items(),key=lambda i:i[1],reverse=True)\n",
    "    \n",
    "ddf = pd.DataFrame(degreeSorted,columns=['nodes','cited'])\n",
    "ddf.cited = ddf.cited.astype(int)\n"
   ]
  },
  {
   "cell_type": "code",
   "execution_count": null,
   "metadata": {},
   "outputs": [],
   "source": [
    "ddf = ddf[ddf.cited > 5]"
   ]
  },
  {
   "cell_type": "code",
   "execution_count": 515,
   "metadata": {},
   "outputs": [
    {
     "ename": "IndexError",
     "evalue": "single positional indexer is out-of-bounds",
     "output_type": "error",
     "traceback": [
      "\u001b[0;31m---------------------------------------------------------------------------\u001b[0m",
      "\u001b[0;31mIndexError\u001b[0m                                Traceback (most recent call last)",
      "\u001b[0;32m/var/folders/hc/96sg9mzd0sx0czqljw5xt9h40000gn/T/ipykernel_21544/377004137.py\u001b[0m in \u001b[0;36m<module>\u001b[0;34m\u001b[0m\n\u001b[1;32m      1\u001b[0m \u001b[0;32mfor\u001b[0m \u001b[0mi\u001b[0m \u001b[0;32min\u001b[0m \u001b[0mrange\u001b[0m\u001b[0;34m(\u001b[0m\u001b[0;36m0\u001b[0m\u001b[0;34m,\u001b[0m\u001b[0mdf2\u001b[0m\u001b[0;34m.\u001b[0m\u001b[0msize\u001b[0m\u001b[0;34m)\u001b[0m\u001b[0;34m:\u001b[0m\u001b[0;34m\u001b[0m\u001b[0;34m\u001b[0m\u001b[0m\n\u001b[0;32m----> 2\u001b[0;31m     \u001b[0mid_nodes\u001b[0m \u001b[0;34m=\u001b[0m \u001b[0mdf2\u001b[0m\u001b[0;34m.\u001b[0m\u001b[0miloc\u001b[0m\u001b[0;34m[\u001b[0m\u001b[0mi\u001b[0m\u001b[0;34m]\u001b[0m\u001b[0;34m.\u001b[0m\u001b[0mcited_id\u001b[0m\u001b[0;34m\u001b[0m\u001b[0;34m\u001b[0m\u001b[0m\n\u001b[0m\u001b[1;32m      3\u001b[0m     \u001b[0mtype\u001b[0m\u001b[0;34m(\u001b[0m\u001b[0mid_nodes\u001b[0m\u001b[0;34m)\u001b[0m\u001b[0;34m\u001b[0m\u001b[0;34m\u001b[0m\u001b[0m\n\u001b[1;32m      4\u001b[0m     \u001b[0;31m#if(G.degree[id_nodes]>10):\u001b[0m\u001b[0;34m\u001b[0m\u001b[0;34m\u001b[0m\u001b[0;34m\u001b[0m\u001b[0m\n\u001b[1;32m      5\u001b[0m      \u001b[0;31m#   print(\"!\")\u001b[0m\u001b[0;34m\u001b[0m\u001b[0;34m\u001b[0m\u001b[0;34m\u001b[0m\u001b[0m\n",
      "\u001b[0;32m~/opt/anaconda3/lib/python3.8/site-packages/pandas/core/indexing.py\u001b[0m in \u001b[0;36m__getitem__\u001b[0;34m(self, key)\u001b[0m\n\u001b[1;32m    965\u001b[0m \u001b[0;34m\u001b[0m\u001b[0m\n\u001b[1;32m    966\u001b[0m             \u001b[0mmaybe_callable\u001b[0m \u001b[0;34m=\u001b[0m \u001b[0mcom\u001b[0m\u001b[0;34m.\u001b[0m\u001b[0mapply_if_callable\u001b[0m\u001b[0;34m(\u001b[0m\u001b[0mkey\u001b[0m\u001b[0;34m,\u001b[0m \u001b[0mself\u001b[0m\u001b[0;34m.\u001b[0m\u001b[0mobj\u001b[0m\u001b[0;34m)\u001b[0m\u001b[0;34m\u001b[0m\u001b[0;34m\u001b[0m\u001b[0m\n\u001b[0;32m--> 967\u001b[0;31m             \u001b[0;32mreturn\u001b[0m \u001b[0mself\u001b[0m\u001b[0;34m.\u001b[0m\u001b[0m_getitem_axis\u001b[0m\u001b[0;34m(\u001b[0m\u001b[0mmaybe_callable\u001b[0m\u001b[0;34m,\u001b[0m \u001b[0maxis\u001b[0m\u001b[0;34m=\u001b[0m\u001b[0maxis\u001b[0m\u001b[0;34m)\u001b[0m\u001b[0;34m\u001b[0m\u001b[0;34m\u001b[0m\u001b[0m\n\u001b[0m\u001b[1;32m    968\u001b[0m \u001b[0;34m\u001b[0m\u001b[0m\n\u001b[1;32m    969\u001b[0m     \u001b[0;32mdef\u001b[0m \u001b[0m_is_scalar_access\u001b[0m\u001b[0;34m(\u001b[0m\u001b[0mself\u001b[0m\u001b[0;34m,\u001b[0m \u001b[0mkey\u001b[0m\u001b[0;34m:\u001b[0m \u001b[0mtuple\u001b[0m\u001b[0;34m)\u001b[0m\u001b[0;34m:\u001b[0m\u001b[0;34m\u001b[0m\u001b[0;34m\u001b[0m\u001b[0m\n",
      "\u001b[0;32m~/opt/anaconda3/lib/python3.8/site-packages/pandas/core/indexing.py\u001b[0m in \u001b[0;36m_getitem_axis\u001b[0;34m(self, key, axis)\u001b[0m\n\u001b[1;32m   1518\u001b[0m \u001b[0;34m\u001b[0m\u001b[0m\n\u001b[1;32m   1519\u001b[0m             \u001b[0;31m# validate the location\u001b[0m\u001b[0;34m\u001b[0m\u001b[0;34m\u001b[0m\u001b[0;34m\u001b[0m\u001b[0m\n\u001b[0;32m-> 1520\u001b[0;31m             \u001b[0mself\u001b[0m\u001b[0;34m.\u001b[0m\u001b[0m_validate_integer\u001b[0m\u001b[0;34m(\u001b[0m\u001b[0mkey\u001b[0m\u001b[0;34m,\u001b[0m \u001b[0maxis\u001b[0m\u001b[0;34m)\u001b[0m\u001b[0;34m\u001b[0m\u001b[0;34m\u001b[0m\u001b[0m\n\u001b[0m\u001b[1;32m   1521\u001b[0m \u001b[0;34m\u001b[0m\u001b[0m\n\u001b[1;32m   1522\u001b[0m             \u001b[0;32mreturn\u001b[0m \u001b[0mself\u001b[0m\u001b[0;34m.\u001b[0m\u001b[0mobj\u001b[0m\u001b[0;34m.\u001b[0m\u001b[0m_ixs\u001b[0m\u001b[0;34m(\u001b[0m\u001b[0mkey\u001b[0m\u001b[0;34m,\u001b[0m \u001b[0maxis\u001b[0m\u001b[0;34m=\u001b[0m\u001b[0maxis\u001b[0m\u001b[0;34m)\u001b[0m\u001b[0;34m\u001b[0m\u001b[0;34m\u001b[0m\u001b[0m\n",
      "\u001b[0;32m~/opt/anaconda3/lib/python3.8/site-packages/pandas/core/indexing.py\u001b[0m in \u001b[0;36m_validate_integer\u001b[0;34m(self, key, axis)\u001b[0m\n\u001b[1;32m   1450\u001b[0m         \u001b[0mlen_axis\u001b[0m \u001b[0;34m=\u001b[0m \u001b[0mlen\u001b[0m\u001b[0;34m(\u001b[0m\u001b[0mself\u001b[0m\u001b[0;34m.\u001b[0m\u001b[0mobj\u001b[0m\u001b[0;34m.\u001b[0m\u001b[0m_get_axis\u001b[0m\u001b[0;34m(\u001b[0m\u001b[0maxis\u001b[0m\u001b[0;34m)\u001b[0m\u001b[0;34m)\u001b[0m\u001b[0;34m\u001b[0m\u001b[0;34m\u001b[0m\u001b[0m\n\u001b[1;32m   1451\u001b[0m         \u001b[0;32mif\u001b[0m \u001b[0mkey\u001b[0m \u001b[0;34m>=\u001b[0m \u001b[0mlen_axis\u001b[0m \u001b[0;32mor\u001b[0m \u001b[0mkey\u001b[0m \u001b[0;34m<\u001b[0m \u001b[0;34m-\u001b[0m\u001b[0mlen_axis\u001b[0m\u001b[0;34m:\u001b[0m\u001b[0;34m\u001b[0m\u001b[0;34m\u001b[0m\u001b[0m\n\u001b[0;32m-> 1452\u001b[0;31m             \u001b[0;32mraise\u001b[0m \u001b[0mIndexError\u001b[0m\u001b[0;34m(\u001b[0m\u001b[0;34m\"single positional indexer is out-of-bounds\"\u001b[0m\u001b[0;34m)\u001b[0m\u001b[0;34m\u001b[0m\u001b[0;34m\u001b[0m\u001b[0m\n\u001b[0m\u001b[1;32m   1453\u001b[0m \u001b[0;34m\u001b[0m\u001b[0m\n\u001b[1;32m   1454\u001b[0m     \u001b[0;31m# -------------------------------------------------------------------\u001b[0m\u001b[0;34m\u001b[0m\u001b[0;34m\u001b[0m\u001b[0;34m\u001b[0m\u001b[0m\n",
      "\u001b[0;31mIndexError\u001b[0m: single positional indexer is out-of-bounds"
     ]
    }
   ],
   "source": []
  },
  {
   "cell_type": "markdown",
   "metadata": {},
   "source": [
    "2.3 简要回答（不超过200字）：什么是六度分割理论？它有什么应用？（0.5分）"
   ]
  },
  {
   "cell_type": "markdown",
   "metadata": {},
   "source": [
    "**六度分割理论**：由哈佛大学心理学教授 Stanley Milgram通过信封实验，发现世界上所有互不相识的人只需要很少(6位)中间人就能建立起联系。也就是说在人与人形成的网络中，一人与任意另一人之间的最短路径不会超过6，称为小世界现象(又称小世界效应)。其理论应用在技术层面证实了社交网络的可行性：人与人的社交关联存在短路径，人们之间可以通过社交网络形成关联。促成了近年面向社交的网络服务——SNS的发达。也是透过社交网络，人与人的联系变得更紧密、容易。\n"
   ]
  },
  {
   "cell_type": "markdown",
   "metadata": {},
   "source": []
  }
 ],
 "metadata": {
  "interpreter": {
   "hash": "7204837d7c128d4d822b59aef96ead30bf24c32a43ddae687c85b774b58a4b8b"
  },
  "kernelspec": {
   "display_name": "Python 3.8.8 ('base')",
   "language": "python",
   "name": "python3"
  },
  "language_info": {
   "codemirror_mode": {
    "name": "ipython",
    "version": 3
   },
   "file_extension": ".py",
   "mimetype": "text/x-python",
   "name": "python",
   "nbconvert_exporter": "python",
   "pygments_lexer": "ipython3",
   "version": "3.8.8"
  }
 },
 "nbformat": 4,
 "nbformat_minor": 4
}
